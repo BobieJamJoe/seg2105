{
 "cells": [
  {
   "cell_type": "markdown",
   "metadata": {},
   "source": [
    "# Chapter 5 - Modelling with Classes\n",
    "## What is UML\n",
    "- The Unified Modelling Language is a standard graphical language for modelling object oriented software.\n",
    "\n",
    "## UML Diagrams\n",
    "- Class diagrams\n",
    "    - describe **classes** and their **relationships**.\n",
    "- Interaction diagrams\n",
    "    - Sequence and communication diagrams.\n",
    "    - Show the **behaviour** of systems in terms of how objects **interact** with each other.\n",
    "- State diagrams and activity diagrams\n",
    "    - show how systems or classes **behave internally**.\n",
    "- Component and deployment diagrams\n",
    "    - show how the various components of systems are **arranged logically and physically**.\n",
    "\n",
    "## Essentials of UML Class Diagrams\n",
    "***The main symbols shown on class diagrams are:***\n",
    "- *Classes*: represent the types of data themselves.\n",
    "- *Associations*: represent linkages between instances of classes.\n",
    "- *Attributes*: are simple data found in classes and their instances.\n",
    "- *Operations*: represent the *abstract* functions performed by the classes and their instances, as well as specific methods implementing these.\n",
    "- *Generalizations*: group classes into inheritance hierarchies.\n",
    "\n",
    "### Classes\n",
    "**A class is simply represented as a box with the name of the class inside.**\n",
    "- The diagram may also show the attributes and operations.\n",
    "- The complete signature of an operation is: `operationName(parameterName: parameterType ...): returnType`\n",
    "\n",
    "![UML Classes Examples](../Resources/UMLClasses.png)\n",
    "\n",
    "### Associations and Multiplicity\n",
    "**An *association* is used to show how two classes are related to each other**\n",
    "- Symbols indicating *multiplicity* are shown at each end of the association.\n",
    "- Associations are by default *bi-directional*.\n",
    "- It is possible to limit the direction of an association by adding an arrow at one end.\n",
    "\n",
    "![UML Associations Examples](../Resources/UMLAssociations.png)\n",
    "\n",
    "- Each association can be labelled, to make explicit the nature of the asscciation.\n",
    "- Multiplicities:\n",
    "    - Constant (1, 2, 3, 4, etc.)\n",
    "    - Range (1...4, 0...*, etc.)\n",
    "    - Many (*)\n",
    "- Avoid unnecessary one-to-one associations.\n",
    "\n",
    "### Association Classes\n",
    "- Sometimes, an attribute that concerns two associated classes cannot be placed in either of the classes.\n",
    "- The following are equivalent:\n",
    "\n",
    "![UML Association Classes Example](../Resources/UMLAssociationClasses.png)\n",
    "\n",
    "### Reflexive Associations\n",
    "- It is possible for an association to connect a class to itself.\n",
    "\n",
    "![UML Reflexive Association Example](../Resources/UMLReflexiveAssociation.png)"
   ]
  }
 ],
 "metadata": {
  "kernelspec": {
   "display_name": "Java (Rapaio Jupyter)",
   "language": "java",
   "name": "rapaio-jupyter-kernel"
  },
  "language_info": {
   "name": "java"
  }
 },
 "nbformat": 4,
 "nbformat_minor": 2
}
