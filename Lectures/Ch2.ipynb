{
 "cells": [
  {
   "cell_type": "markdown",
   "metadata": {},
   "source": [
    "# Chapter 2 - Review of Object Orientation\n",
    "### What is Object Orientation?\n",
    "\n",
    "### Procedural paradigm:\n",
    "- Software is organized around the notion of *procedures*.\n",
    "- *Procedural abstraction*\n",
    "    - Works as long as the data is simple.\n",
    "- Adding *data abstractions* groups together the pieces of data that describe some entity.\n",
    "    - Helps reduce the system's complexity, such as records and structures.\n",
    "### Object oriented paradigm:\n",
    "- Organizing procedural abstractions in the context of data abstractions.\n",
    "- **All computations are performed in the context of objects.**\n",
    "- The objects are instances of classes, which:\n",
    "    - are data abstractions;\n",
    "    - contain procedural abstractions that operate on the objects;\n",
    "- A running program can be seen as a collection of objects collaborating to perform a given task.\n",
    "\n",
    "### Classes and Objects\n",
    "- **Object**\n",
    "    - A chunk of structured data in a running software system.\n",
    "    - Has *properties* that represent its state.\n",
    "    - Has *behaviour* that describes how it acts and reacts. Its behaviour may simulate the behaviour of an object in the real world.\n",
    "- **Class**\n",
    "    - A unit of abstraction in an object oriented program.\n",
    "    - Represents similar objects - its *instances*.\n",
    "    - A kind of software module that describes its instances' structure (properties) and contains *methods* to implement their behaviour.\n",
    "\n",
    "### Types of Variables\n",
    "- **A variable**\n",
    "    - *Refers* to an object.\n",
    "    - May refer to different objects at different points in time.\n",
    "- **An object can be referred to by several different variables at the same time.**\n",
    "- **Instance variables**\n",
    "    - Variables defined inside of a class corresponding to data present in each instance.\n",
    "    - Also called *fields* or *member variables*.\n",
    "    - Attributes: simple data.\n",
    "    - Associations: relationships to other important classes.\n",
    "- **Class variables**\n",
    "    - *Shared* by all instances of a class.\n",
    "    - Also called a *static* variable.\n",
    "    - If one instance sets the value of a class variable, then all the other instances see the same changed value.\n",
    "\n",
    "### Methods and Operations\n",
    "- **Operation**\n",
    "    - A higher-level procedural abstraction that specifies a type of behaviour.\n",
    "    - Independent of any code which implements that behaviour.\n",
    "- **Method**\n",
    "    - A procedural abstraction used to implement the behaviour of a class.\n",
    "    - Several different classes can have methods with the same name. They implement the same abstract operation in ways suitable to each class.\n",
    "\n",
    "### Polymorphism\n",
    "- A property of object oriented software by which an *abstract operation may be performed in different ways* in different classes.\n",
    "- Requires that there be *multiple methods of the same name*.\n",
    "- The choice of which one to execute depends on the object that is in a variable.\n",
    "- Reduces the need for programmers to code many `if/else` or `switch` statements."
   ]
  },
  {
   "cell_type": "markdown",
   "metadata": {},
   "source": [
    "### Inheritance Hierarchies\n",
    "- **Superclasses*\n",
    "    - Contain features common to a set of subclasses.\n",
    "- **Inheritance hierarchies**\n",
    "    - Show the relationship among superclasses and subclasses.\n",
    "- **Inheritance**\n",
    "    - The *implicit* possesion by all subclasses of features defined in its superclasses.\n",
    "\n",
    "### The Isa Rule\n",
    "- Always check generalizations to ensure they obey the isa rule.\n",
    "- Ex:\n",
    "    - A checking account **is an** account.\n",
    "    - A village **is a** municipality.\n",
    "    - A province **is not** a country."
   ]
  },
  {
   "cell_type": "markdown",
   "metadata": {},
   "source": [
    "## Exceptions\n",
    "- Exceptions are handled using either `try/catch` blocks or `throws`.\n",
    "\n",
    "### Try/Catch...Finally\n",
    "- `Try` block attempts to run code that might throw an exception.\n",
    "- `Catch` block catches specified exception thrown by the `try` block. `Catch` blocks should catch the most specific exceptions first and the most generic last.\n",
    "- `Finally` block executes code regardless of success or failure.\n",
    "\n",
    "### Throws\n",
    "- Add a `throws` statement to a method to declare what exceptions it might throw.\n",
    "- This notifies users of the function that it might throw an exception and they need to handle it."
   ]
  }
 ],
 "metadata": {
  "language_info": {
   "name": "python"
  }
 },
 "nbformat": 4,
 "nbformat_minor": 2
}
